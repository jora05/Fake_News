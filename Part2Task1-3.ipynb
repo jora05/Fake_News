{
 "cells": [
  {
   "cell_type": "code",
   "execution_count": 2,
   "metadata": {},
   "outputs": [],
   "source": [
    "import pandas as pd\n",
    "from sklearn.feature_extraction.text import CountVectorizer\n",
    "from sklearn.linear_model import LogisticRegression\n",
    "from sklearn.metrics import classification_report, accuracy_score, f1_score\n",
    "from sklearn.preprocessing import OneHotEncoder\n",
    "from sklearn.feature_extraction.text import TfidfVectorizer\n",
    "from scipy.sparse import hstack"
   ]
  },
  {
   "cell_type": "code",
   "execution_count": 3,
   "metadata": {},
   "outputs": [],
   "source": [
    "train_data = pd.read_csv('train_data.csv')                                              # Reads train_data csv file created earlier to DataFrame\n",
    "validation_data = pd.read_csv('validation_data.csv')                                    # Reads validation_data csv file created earlier to DataFrame"
   ]
  },
  {
   "cell_type": "code",
   "execution_count": 4,
   "metadata": {},
   "outputs": [
    {
     "name": "stdout",
     "output_type": "stream",
     "text": [
      "(609283, 10000)\n",
      "(76160, 10000)\n"
     ]
    }
   ],
   "source": [
    "# Extract content and labels\n",
    "X_train = train_data['stemmed_tokens']\n",
    "y_train = train_data['type']\n",
    "X_val = validation_data['stemmed_tokens']\n",
    "y_val = validation_data['type']\n",
    "\n",
    "# Convert text to a bag-of-words representation\n",
    "vectorizer = CountVectorizer(max_features=10000)  # Use 10.000 most used words as features\n",
    "X_train_bow = vectorizer.fit_transform(X_train)\n",
    "X_val_bow = vectorizer.transform(X_val)\n",
    "\n",
    "# Check shape of resulting matrix (should be (sample_size, 10000))\n",
    "print(X_train_bow.shape)\n",
    "print(X_val_bow.shape)"
   ]
  },
  {
   "cell_type": "markdown",
   "metadata": {},
   "source": [
    "Task 1"
   ]
  },
  {
   "cell_type": "code",
   "execution_count": 5,
   "metadata": {},
   "outputs": [
    {
     "name": "stdout",
     "output_type": "stream",
     "text": [
      "Accuracy: 0.8425\n",
      "F1 Score: 0.8369\n",
      "Classification Report:\n",
      "               precision    recall  f1-score   support\n",
      "\n",
      "           0       0.85      0.85      0.85     39503\n",
      "           1       0.83      0.84      0.84     36657\n",
      "\n",
      "    accuracy                           0.84     76160\n",
      "   macro avg       0.84      0.84      0.84     76160\n",
      "weighted avg       0.84      0.84      0.84     76160\n",
      "\n"
     ]
    }
   ],
   "source": [
    "# Train logistic regression model\n",
    "model = LogisticRegression(max_iter=1500) \n",
    "model.fit(X_train_bow, y_train)\n",
    "\n",
    "# Predictions\n",
    "y_val_pred = model.predict(X_val_bow)\n",
    "\n",
    "# Evaluate the model\n",
    "accuracy = accuracy_score(y_val, y_val_pred)\n",
    "f1 = f1_score(y_val, y_val_pred, pos_label=1)\n",
    "report = classification_report(y_val, y_val_pred)\n",
    "\n",
    "# Print results\n",
    "print(f\"Accuracy: {accuracy:.4f}\")\n",
    "print(f\"F1 Score: {f1:.4f}\")\n",
    "print(\"Classification Report:\\n\", report)"
   ]
  },
  {
   "cell_type": "markdown",
   "metadata": {},
   "source": [
    "Task 1 optimized"
   ]
  },
  {
   "cell_type": "code",
   "execution_count": 7,
   "metadata": {},
   "outputs": [
    {
     "name": "stdout",
     "output_type": "stream",
     "text": [
      "Accuracy: 0.8423\n",
      "F1 Score: 0.8392\n",
      "Classification Report:\n",
      "               precision    recall  f1-score   support\n",
      "\n",
      "           0       0.86      0.83      0.85     39503\n",
      "           1       0.82      0.86      0.84     36657\n",
      "\n",
      "    accuracy                           0.84     76160\n",
      "   macro avg       0.84      0.84      0.84     76160\n",
      "weighted avg       0.84      0.84      0.84     76160\n",
      "\n"
     ]
    }
   ],
   "source": [
    "# Train logistic regression model\n",
    "# Her med class-weight=balanced og C=8.0\n",
    "model = LogisticRegression(max_iter=1500, class_weight='balanced', C=8.0) \n",
    "model.fit(X_train_bow, y_train)\n",
    "\n",
    "# Predictions\n",
    "y_val_pred = model.predict(X_val_bow)\n",
    "\n",
    "# Evaluate the model\n",
    "accuracy = accuracy_score(y_val, y_val_pred)\n",
    "f1 = f1_score(y_val, y_val_pred, pos_label=1)\n",
    "report = classification_report(y_val, y_val_pred)\n",
    "\n",
    "# Print results\n",
    "print(f\"Accuracy: {accuracy:.4f}\")\n",
    "print(f\"F1 Score: {f1:.4f}\")\n",
    "print(\"Classification Report:\\n\", report)"
   ]
  },
  {
   "cell_type": "markdown",
   "metadata": {},
   "source": [
<<<<<<< HEAD
    "Task 2 with Domain as Feature"
=======
    "Task 2 med domain som features (ud over main-text selvfølgelig) - er det snyd? Det er meget muligt. Men de skriver ikke, at det er ulovligt."
>>>>>>> 08c4fb8a5630e4bc07c24cb3c65237f0151f1c34
   ]
  },
  {
   "cell_type": "code",
   "execution_count": 8,
   "metadata": {},
   "outputs": [
    {
     "name": "stdout",
     "output_type": "stream",
     "text": [
      "Final Feature Matrix Shape (training): (609283, 10524)\n",
      "Final Feature Matrix Shape (validation): (76160, 10524)\n"
     ]
    }
   ],
   "source": [
    "# Encode 'domain' as a numerical feature\n",
    "encoder = OneHotEncoder(handle_unknown='ignore')  # Handle unseen domains gracefully\n",
    "X_train_domain = encoder.fit_transform(train_data[['domain']])\n",
    "X_val_domain = encoder.transform(validation_data[['domain']])\n",
    "\n",
    "# Combine text features and domain features\n",
    "X_train_combined = hstack([X_train_bow, X_train_domain])                # Horizontally stack sparse matrices\n",
    "X_val_combined = hstack([X_val_bow, X_val_domain])                      # Horizontally stack sparse matrices\n",
    "\n",
    "# Check the resulting feature shape\n",
    "print(f\"Final Feature Matrix Shape (training): {X_train_combined.shape}\")  # (rows, num_features)\n",
    "print(f\"Final Feature Matrix Shape (validation): {X_val_combined.shape}\")  # (rows, num_features)"
   ]
  },
  {
   "cell_type": "code",
   "execution_count": 9,
   "metadata": {},
   "outputs": [
    {
     "name": "stdout",
     "output_type": "stream",
     "text": [
      "Accuracy: 0.9996\n",
      "F1 Score: 0.9996\n",
      "Classification Report:\n",
      "               precision    recall  f1-score   support\n",
      "\n",
      "           0       1.00      1.00      1.00     39503\n",
      "           1       1.00      1.00      1.00     36657\n",
      "\n",
      "    accuracy                           1.00     76160\n",
      "   macro avg       1.00      1.00      1.00     76160\n",
      "weighted avg       1.00      1.00      1.00     76160\n",
      "\n"
     ]
    }
   ],
   "source": [
    "# Train Logistic Regression model\n",
    "model = LogisticRegression(max_iter=1500)\n",
    "model.fit(X_train_combined, y_train)\n",
    "\n",
    "# Predictions\n",
    "y_val_pred = model.predict(X_val_combined)\n",
    "\n",
    "# Evaluate the model\n",
    "accuracy = accuracy_score(y_val, y_val_pred)\n",
    "f1 = f1_score(y_val, y_val_pred, pos_label=1)\n",
    "report = classification_report(y_val, y_val_pred)\n",
    "\n",
    "# Print results\n",
    "print(f\"Accuracy: {accuracy:.4f}\")\n",
    "print(f\"F1 Score: {f1:.4f}\")\n",
    "print(\"Classification Report:\\n\", report)"
   ]
  },
  {
   "cell_type": "markdown",
   "metadata": {},
   "source": [
    "Task 2 med title som features (ud over main-text)"
   ]
  },
  {
   "cell_type": "code",
   "execution_count": 10,
   "metadata": {},
   "outputs": [
    {
     "name": "stdout",
     "output_type": "stream",
     "text": [
      "Final Feature Matrix Shape (training): (609283, 15000)\n",
      "Final Feature Matrix Shape (validation): (76160, 15000)\n"
     ]
    }
   ],
   "source": [
    "# Fill NaN values in the 'title' column with an empty string\n",
    "train_data['title'] = train_data['title'].fillna(\"\")\n",
    "validation_data['title'] = validation_data['title'].fillna(\"\")\n",
    "\n",
    "# Encode 'title' as a numerical feature\n",
    "vectorizer_title = TfidfVectorizer(max_features=5000)  # Convert title to TF-IDF\n",
    "X_train_title = vectorizer_title.fit_transform(train_data['title'])\n",
    "X_val_title = vectorizer_title.transform(validation_data['title'])\n",
    "\n",
    "# Combine text features and title features\n",
    "X_train_co_title = hstack([X_train_bow, X_train_title])                # Horizontally stack sparse matrices\n",
    "X_val_co_title = hstack([X_val_bow, X_val_title])                      # Horizontally stack sparse matrices\n",
    "\n",
    "# Check the resulting feature shape\n",
    "print(f\"Final Feature Matrix Shape (training): {X_train_co_title.shape}\")  # (rows, num_features)\n",
    "print(f\"Final Feature Matrix Shape (validation): {X_val_co_title.shape}\")  # (rows, num_features)"
   ]
  },
  {
   "cell_type": "code",
   "execution_count": 11,
   "metadata": {},
   "outputs": [
    {
     "name": "stderr",
     "output_type": "stream",
     "text": [
      "/opt/anaconda3/lib/python3.12/site-packages/sklearn/linear_model/_logistic.py:469: ConvergenceWarning: lbfgs failed to converge (status=1):\n",
      "STOP: TOTAL NO. of ITERATIONS REACHED LIMIT.\n",
      "\n",
      "Increase the number of iterations (max_iter) or scale the data as shown in:\n",
      "    https://scikit-learn.org/stable/modules/preprocessing.html\n",
      "Please also refer to the documentation for alternative solver options:\n",
      "    https://scikit-learn.org/stable/modules/linear_model.html#logistic-regression\n",
      "  n_iter_i = _check_optimize_result(\n"
     ]
    },
    {
     "name": "stdout",
     "output_type": "stream",
     "text": [
      "Accuracy: 0.8732\n",
      "F1 Score: 0.8677\n",
      "Classification Report:\n",
      "               precision    recall  f1-score   support\n",
      "\n",
      "           0       0.87      0.88      0.88     39503\n",
      "           1       0.87      0.86      0.87     36657\n",
      "\n",
      "    accuracy                           0.87     76160\n",
      "   macro avg       0.87      0.87      0.87     76160\n",
      "weighted avg       0.87      0.87      0.87     76160\n",
      "\n"
     ]
    }
   ],
   "source": [
    "# Train Logistic Regression model\n",
    "model = LogisticRegression(max_iter=2500)\n",
    "model.fit(X_train_co_title, y_train)\n",
    "\n",
    "# Predictions\n",
    "y_val_pred = model.predict(X_val_co_title)\n",
    "\n",
    "# Evaluate the model\n",
    "accuracy = accuracy_score(y_val, y_val_pred)\n",
    "f1 = f1_score(y_val, y_val_pred, pos_label=1)\n",
    "report = classification_report(y_val, y_val_pred)\n",
    "\n",
    "# Print results\n",
    "print(f\"Accuracy: {accuracy:.4f}\")\n",
    "print(f\"F1 Score: {f1:.4f}\")\n",
    "print(\"Classification Report:\\n\", report)"
   ]
  },
  {
   "cell_type": "markdown",
   "metadata": {},
   "source": [
    "Stadig task 2 med title, her optimeret"
   ]
  },
  {
   "cell_type": "code",
   "execution_count": 12,
   "metadata": {},
   "outputs": [
    {
     "name": "stdout",
     "output_type": "stream",
     "text": [
      "Accuracy: 0.8731\n",
      "F1 Score: 0.8687\n",
      "Classification Report:\n",
      "               precision    recall  f1-score   support\n",
      "\n",
      "           0       0.88      0.87      0.88     39503\n",
      "           1       0.86      0.87      0.87     36657\n",
      "\n",
      "    accuracy                           0.87     76160\n",
      "   macro avg       0.87      0.87      0.87     76160\n",
      "weighted avg       0.87      0.87      0.87     76160\n",
      "\n"
     ]
    }
   ],
   "source": [
    "# Train Logistic Regression model\n",
    "model = LogisticRegression(max_iter=2500, class_weight='balanced')\n",
    "model.fit(X_train_co_title, y_train)\n",
    "\n",
    "# Predictions\n",
    "y_val_pred = model.predict(X_val_co_title)\n",
    "\n",
    "# Evaluate the model\n",
    "accuracy = accuracy_score(y_val, y_val_pred)\n",
    "f1 = f1_score(y_val, y_val_pred, pos_label=1)\n",
    "report = classification_report(y_val, y_val_pred)\n",
    "\n",
    "# Print results\n",
    "print(f\"Accuracy: {accuracy:.4f}\")\n",
    "print(f\"F1 Score: {f1:.4f}\")\n",
    "print(\"Classification Report:\\n\", report)"
   ]
  },
  {
   "cell_type": "markdown",
   "metadata": {},
   "source": [
    "Task 3, preprocessing er gjort i Part1Task2 sammen med processing af det store dataset :))"
   ]
  },
  {
   "cell_type": "code",
   "execution_count": 13,
   "metadata": {},
   "outputs": [],
   "source": [
    "processed_data = pd.read_csv('processed_scraped_articles.csv')                                       # Reads processed scraped data created earlier to DataFrame"
   ]
  },
  {
   "cell_type": "code",
   "execution_count": 14,
   "metadata": {},
   "outputs": [
    {
     "name": "stdout",
     "output_type": "stream",
     "text": [
      "(713, 2)\n",
      "(609283,)\n",
      "(609996,)\n",
      "(609283,)\n",
      "(609996,)\n"
     ]
    }
   ],
   "source": [
    "# Concatenate stemmed tokens from processed data to X_train\n",
    "X_train_extended = pd.concat([X_train, processed_data['stemmed_tokens']], ignore_index=True)\n",
    "\n",
    "# Concatenate type column (0) to y_train\n",
    "y_train_extended = pd.concat([y_train, processed_data['type']], ignore_index=True)\n",
    "\n",
    "# Control that concatenation happened correctly\n",
    "print(processed_data.shape)                        # should be (713, 2)\n",
    "print(X_train.shape)                               # should be (xx, )\n",
    "print(X_train_extended.shape)                      # should be (xx+713, )\n",
    "print(y_train.shape)                               # should be (xx, )\n",
    "print(y_train_extended.shape)                      # should be (xx+713, )"
   ]
  },
  {
   "cell_type": "code",
   "execution_count": 15,
   "metadata": {},
   "outputs": [
    {
     "name": "stdout",
     "output_type": "stream",
     "text": [
      "(609996, 10000)\n",
      "(76160, 10000)\n"
     ]
    }
   ],
   "source": [
    "# Convert text to a bag-of-words representation\n",
    "vectorizer2 = CountVectorizer(max_features=10000)  # Use 10.000 most used words as features\n",
    "X_train_ext_bow = vectorizer2.fit_transform(X_train_extended)\n",
    "X_val_ext_bow = vectorizer2.transform(X_val)\n",
    "\n",
    "# Check shape of resulting matrix (should be (sample_size, 10000))\n",
    "print(X_train_ext_bow.shape)\n",
    "print(X_val_ext_bow.shape)"
   ]
  },
  {
   "cell_type": "code",
   "execution_count": 16,
   "metadata": {},
   "outputs": [
    {
     "name": "stdout",
     "output_type": "stream",
     "text": [
      "Accuracy: 0.8425\n",
      "F1 Score: 0.8394\n",
      "Classification Report:\n",
      "               precision    recall  f1-score   support\n",
      "\n",
      "           0       0.86      0.83      0.85     39503\n",
      "           1       0.82      0.86      0.84     36657\n",
      "\n",
      "    accuracy                           0.84     76160\n",
      "   macro avg       0.84      0.84      0.84     76160\n",
      "weighted avg       0.84      0.84      0.84     76160\n",
      "\n"
     ]
    }
   ],
   "source": [
    "# Train logistic regression model\n",
    "model = LogisticRegression(max_iter=1500, class_weight='balanced') \n",
    "model.fit(X_train_ext_bow, y_train_extended)\n",
    "\n",
    "# Predictions\n",
    "y_val_pred = model.predict(X_val_ext_bow)\n",
    "\n",
    "# Evaluate the model\n",
    "accuracy = accuracy_score(y_val, y_val_pred)\n",
    "f1 = f1_score(y_val, y_val_pred, pos_label=1)\n",
    "report = classification_report(y_val, y_val_pred)\n",
    "\n",
    "# Print results\n",
    "print(f\"Accuracy: {accuracy:.4f}\")\n",
    "print(f\"F1 Score: {f1:.4f}\")\n",
    "print(\"Classification Report:\\n\", report)"
   ]
  },
  {
   "cell_type": "markdown",
   "metadata": {},
   "source": [
    "Det hjalp kun meeeeeget lidt, men det er lidt som forventet når man smider 713 artikler på et training-set der indeholder 600.000 artikler :))"
   ]
  },
  {
   "cell_type": "markdown",
   "metadata": {},
   "source": [
    "## Evaluation on Simple Model"
   ]
  },
  {
   "cell_type": "code",
   "execution_count": 17,
   "metadata": {},
   "outputs": [
    {
     "name": "stdout",
     "output_type": "stream",
     "text": [
      "\n",
      "--- Test Set Evaluation ---\n",
      "Test Accuracy: 0.8420\n",
      "Test F1 Score: 0.8394\n",
      "Classification Report:\n",
      "               precision    recall  f1-score   support\n",
      "\n",
      "           0       0.86      0.83      0.84     39411\n",
      "           1       0.82      0.86      0.84     36750\n",
      "\n",
      "    accuracy                           0.84     76161\n",
      "   macro avg       0.84      0.84      0.84     76161\n",
      "weighted avg       0.84      0.84      0.84     76161\n",
      "\n"
     ]
    },
    {
     "data": {
      "image/png": "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",
      "text/plain": [
       "<Figure size 600x500 with 2 Axes>"
      ]
     },
     "metadata": {},
     "output_type": "display_data"
    }
   ],
   "source": [
    "import pandas as pd\n",
    "import numpy as np\n",
    "from sklearn.feature_extraction.text import CountVectorizer\n",
    "from sklearn.linear_model import LogisticRegression\n",
    "from sklearn.metrics import accuracy_score, f1_score, classification_report, confusion_matrix\n",
    "import matplotlib.pyplot as plt\n",
    "import seaborn as sns\n",
    "\n",
    "# --- Load and Extend Training Data ---\n",
    "processed_data = pd.read_csv('processed_scraped_articles.csv')\n",
    "train_data = pd.read_csv('train_data.csv', usecols=['stemmed_tokens', 'type'])\n",
    "\n",
    "X_train_extended = pd.concat([train_data['stemmed_tokens'], processed_data['stemmed_tokens']], ignore_index=True)\n",
    "y_train_extended = pd.concat([train_data['type'], processed_data['type']], ignore_index=True)\n",
    "\n",
    "# --- Vectorize (BoW) ---\n",
    "vectorizer = CountVectorizer(max_features=10000)\n",
    "X_train_ext_bow = vectorizer.fit_transform(X_train_extended)\n",
    "\n",
    "# --- Train Baseline Logistic Regression ---\n",
    "model = LogisticRegression(max_iter=1500, class_weight='balanced', C=8.0)\n",
    "model.fit(X_train_ext_bow, y_train_extended)\n",
    "\n",
    "# --- Load Test Set ---\n",
    "test_data = pd.read_csv('test_data.csv', usecols=['stemmed_tokens', 'type'])\n",
    "X_test = test_data['stemmed_tokens']\n",
    "y_test = test_data['type']\n",
    "X_test_ext_bow = vectorizer.transform(X_test)\n",
    "\n",
    "# --- Evaluate ---\n",
    "y_test_pred = model.predict(X_test_ext_bow)\n",
    "test_accuracy = accuracy_score(y_test, y_test_pred)\n",
    "test_f1 = f1_score(y_test, y_test_pred, pos_label=1)\n",
    "report = classification_report(y_test, y_test_pred)\n",
    "\n",
    "print(\"\\n--- Test Set Evaluation ---\")\n",
    "print(f\"Test Accuracy: {test_accuracy:.4f}\")\n",
    "print(f\"Test F1 Score: {test_f1:.4f}\")\n",
    "print(\"Classification Report:\\n\", report)\n",
    "\n",
    "# --- Confusion Matrix ---\n",
    "cm = confusion_matrix(y_test, y_test_pred)\n",
    "plt.figure(figsize=(6, 5))\n",
    "sns.heatmap(cm, annot=True, fmt='d', cmap='Blues',\n",
    "            xticklabels=['Reliable (0)', 'Fake (1)'],\n",
    "            yticklabels=['Reliable (0)', 'Fake (1)'])\n",
    "plt.xlabel(\"Predicted Label\")\n",
    "plt.ylabel(\"True Label\")\n",
    "plt.title(\"Confusion Matrix – Test Set (Baseline LR)\")\n",
    "plt.tight_layout()\n",
    "plt.show()\n"
   ]
  },
  {
   "cell_type": "code",
   "execution_count": 18,
   "metadata": {},
   "outputs": [
    {
     "name": "stdout",
     "output_type": "stream",
     "text": [
      "\n",
      "--- LIAR Dataset Evaluation ---\n",
      "Accuracy: 0.4810\n",
      "F1 Score: 0.4601\n",
      "Classification Report:\n",
      "               precision    recall  f1-score   support\n",
      "\n",
      "           0       0.59      0.30      0.40       449\n",
      "           1       0.44      0.72      0.55       341\n",
      "\n",
      "    accuracy                           0.48       790\n",
      "   macro avg       0.51      0.51      0.47       790\n",
      "weighted avg       0.52      0.48      0.46       790\n",
      "\n"
     ]
    },
    {
     "data": {
      "image/png": "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",
      "text/plain": [
       "<Figure size 600x500 with 2 Axes>"
      ]
     },
     "metadata": {},
     "output_type": "display_data"
    }
   ],
   "source": [
    "# --- Load the processed LIAR dataset ---\n",
    "liar_df = pd.read_csv(\"liar_test.csv\")\n",
    "X_liar = liar_df[\"stemmed_tokens\"]\n",
    "y_liar = liar_df[\"label\"]\n",
    "\n",
    "# --- Transform using the SAME vectorizer used for baseline (CountVectorizer) ---\n",
    "X_liar_bow = vectorizer.transform(X_liar)  # DO NOT fit again!\n",
    "\n",
    "# --- Predict on LIAR data using the trained baseline model ---\n",
    "y_liar_pred = model.predict(X_liar_bow)\n",
    "\n",
    "# --- Evaluate ---\n",
    "from sklearn.metrics import classification_report, confusion_matrix, accuracy_score, f1_score\n",
    "import matplotlib.pyplot as plt\n",
    "import seaborn as sns\n",
    "\n",
    "print(\"\\n--- LIAR Dataset Evaluation ---\")\n",
    "print(f\"Accuracy: {accuracy_score(y_liar, y_liar_pred):.4f}\")\n",
    "print(f\"F1 Score: {f1_score(y_liar, y_liar_pred, average='weighted'):.4f}\")\n",
    "print(\"Classification Report:\\n\", classification_report(y_liar, y_liar_pred))\n",
    "\n",
    "# --- Confusion Matrix ---\n",
    "cm = confusion_matrix(y_liar, y_liar_pred)\n",
    "plt.figure(figsize=(6, 5))\n",
    "sns.heatmap(cm, annot=True, fmt=\"d\", cmap=\"Purples\",\n",
    "            xticklabels=[\"Reliable (0)\", \"Fake (1)\"],\n",
    "            yticklabels=[\"Reliable (0)\", \"Fake (1)\"])\n",
    "plt.xlabel(\"Predicted Label\")\n",
    "plt.ylabel(\"True Label\")\n",
    "plt.title(\"Confusion Matrix – LIAR Dataset (Baseline LR)\")\n",
    "plt.tight_layout()\n",
    "plt.show()"
   ]
  }
 ],
 "metadata": {
  "kernelspec": {
   "display_name": "base",
   "language": "python",
   "name": "python3"
  },
  "language_info": {
   "codemirror_mode": {
    "name": "ipython",
    "version": 3
   },
   "file_extension": ".py",
   "mimetype": "text/x-python",
   "name": "python",
   "nbconvert_exporter": "python",
   "pygments_lexer": "ipython3",
   "version": "3.12.7"
  }
 },
 "nbformat": 4,
 "nbformat_minor": 2
}
