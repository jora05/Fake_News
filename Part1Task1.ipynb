{
 "cells": [
  {
   "cell_type": "code",
   "execution_count": 2,
   "metadata": {},
   "outputs": [],
   "source": [
    "import pandas as pd\n",
    "import re\n",
    "import nltk\n",
    "from nltk.tokenize import word_tokenize\n",
    "from nltk.corpus import stopwords\n",
    "from nltk.stem import PorterStemmer\n",
    "import matplotlib.pyplot as plt\n",
    "\n",
    "#nltk.download('stopwords')\n",
    "#nltk.download('punkt_tab')"
   ]
  },
  {
   "cell_type": "code",
   "execution_count": 3,
   "metadata": {},
   "outputs": [],
   "source": [
    "stop_words = set(stopwords.words(\"english\"))                        # load English stopwords from NLTK\n",
    "stemmer = PorterStemmer()                                           # create a new Porter stemmer\n",
    "\n",
    "def clean_text(text):\n",
    "    text = text.lower()                                             # convert to lowercase\n",
    "    spaces = re.compile(r'\\s+')\n",
    "    text = spaces.sub(' ', text)                                    # substitute all white space characters (single or multiple occurences) with a single space\n",
    "\n",
    "    emails = re.compile(r'\\S+@\\S+\\.\\S+')\n",
    "    text = emails.sub('_EMAIL_', text)                              # substitute all found email addresses with _EMAIL_\n",
    "    urls = re.compile(r'http[s]?:\\/\\/\\S+|www\\.\\S+|\\S+\\.[a-z]+\\/\\S+|\\w+\\.(?:com|net|org)')\n",
    "    text = urls.sub('_URL_', text)                                  # substitute all found URLs with _URL_\n",
    "    dates = re.compile(r'''\n",
    "                       \\d{1,4}[-\\/]\\d{1,2}[-\\/]\\d{1,4}|\n",
    "                       \\d{1,2}\\ (?:jan[a-z]*|feb[a-z]*|mar[a-z]*|apr[a-z]*|may|jun[e]?|jul[y]?|aug[a-z]*|sep[a-z]*|oct[a-z]*|nov[a-z]*|dec[a-z]*)\\ \\d{,4}|\n",
    "                       (?:jan[a-z]*|feb[a-z]*|mar[a-z]*|apr[a-z]*|may|jun[e]?|jul[y]?|aug[a-z]*|sep[a-z]*|oct[a-z]*|nov[a-z]*|dec[a-z]*)[,.]?\\ ?\\d{1,4}(?:th|st|nd|rd)?(?:,\\ \\d{4})?\n",
    "                       ''', re.VERBOSE)\n",
    "    text = dates.sub('_DATE_', text)                                # substitute all found dates with _DATE_\n",
    "    numbers = re.compile(r'\\d+(?:th|st|nd|rd)?')\n",
    "    text = numbers.sub('_NUM_', text)                               # substitute all remaining numbers with _NUM_\n",
    "    return text\n",
    "\n",
    "def remove_stopwords(tokens):\n",
    "    return [word for word in tokens if word not in stop_words]\n",
    "\n",
    "def stem_words(tokens):\n",
    "    return [stemmer.stem(word) for word in tokens]"
   ]
  },
  {
   "cell_type": "code",
   "execution_count": 4,
   "metadata": {},
   "outputs": [
    {
     "name": "stdout",
     "output_type": "stream",
     "text": [
      "<class 'pandas.core.frame.DataFrame'>\n",
      "RangeIndex: 250 entries, 0 to 249\n",
      "Data columns (total 5 columns):\n",
      " #   Column   Non-Null Count  Dtype \n",
      "---  ------   --------------  ----- \n",
      " 0   domain   250 non-null    object\n",
      " 1   type     238 non-null    object\n",
      " 2   url      250 non-null    object\n",
      " 3   content  250 non-null    object\n",
      " 4   title    250 non-null    object\n",
      "dtypes: object(5)\n",
      "memory usage: 9.9+ KB\n",
      "None\n",
      "<class 'pandas.core.frame.DataFrame'>\n",
      "Index: 215 entries, 1 to 246\n",
      "Data columns (total 5 columns):\n",
      " #   Column   Non-Null Count  Dtype \n",
      "---  ------   --------------  ----- \n",
      " 0   domain   215 non-null    object\n",
      " 1   type     215 non-null    object\n",
      " 2   url      215 non-null    object\n",
      " 3   content  215 non-null    object\n",
      " 4   title    215 non-null    object\n",
      "dtypes: object(5)\n",
      "memory usage: 10.1+ KB\n",
      "None\n"
     ]
    }
   ],
   "source": [
    "sample = pd.read_csv(\"news_sample.csv\", usecols=['domain', 'type', 'url', 'content', 'title']) \n",
    "print(sample.info()) \n",
    "\n",
    "sample = sample.dropna(subset=['content', 'type'])                                    # drop rows with no content or type (/label)\n",
    "sample = sample.drop(sample[sample['type'] == 'unknown'].index)                       # drop rows where 'type' is 'unknown'\n",
    "sample = sample.drop(sample[sample['type'] == 'unreliable'].index)                    # drop rows where 'type' is 'unreliable'\n",
    "sample = sample.drop_duplicates(subset=['content'])                                   # drop rows with duplicates in the 'content' column\n",
    "\n",
    "print(sample.info()) "
   ]
  },
  {
   "cell_type": "code",
   "execution_count": 5,
   "metadata": {},
   "outputs": [
    {
     "name": "stdout",
     "output_type": "stream",
     "text": [
      "                                             content  \\\n",
      "1  AWAKENING OF 12 STRANDS of DNA – “Reconnecting...   \n",
      "4  Donald Trump has the unnerving ability to abil...   \n",
      "6  Could you imagine waking up in the morgue? I f...   \n",
      "7  Citizen Journalist\\n\\nby N.Morgan Q has releas...   \n",
      "8  Usa Dollar Tanks On Mnuchin Statement That He ...   \n",
      "\n",
      "                                     cleaned_content  \\\n",
      "1  awakening of _NUM_ strands of dna – “reconnect...   \n",
      "4  donald trump has the unnerving ability to abil...   \n",
      "6  could you imagine waking up in the morgue? i f...   \n",
      "7  citizen journalist by n.morgan q has released ...   \n",
      "8  usa dollar tanks on mnuchin statement that he ...   \n",
      "\n",
      "                                              tokens  \\\n",
      "1  [awakening, of, _NUM_, strands, of, dna, –, “,...   \n",
      "4  [donald, trump, has, the, unnerving, ability, ...   \n",
      "6  [could, you, imagine, waking, up, in, the, mor...   \n",
      "7  [citizen, journalist, by, n.morgan, q, has, re...   \n",
      "8  [usa, dollar, tanks, on, mnuchin, statement, t...   \n",
      "\n",
      "                                 tokens_no_stopwords  \\\n",
      "1  [awakening, _NUM_, strands, dna, –, “, reconne...   \n",
      "4  [donald, trump, unnerving, ability, ability, c...   \n",
      "6  [could, imagine, waking, morgue, ?, one, would...   \n",
      "7  [citizen, journalist, n.morgan, q, released, s...   \n",
      "8  [usa, dollar, tanks, mnuchin, statement, wants...   \n",
      "\n",
      "                                      stemmed_tokens  \n",
      "1  [awaken, _num_, strand, dna, –, “, reconnect, ...  \n",
      "4  [donald, trump, unnerv, abil, abil, creat, rea...  \n",
      "6  [could, imagin, wake, morgu, ?, one, would, tr...  \n",
      "7  [citizen, journalist, n.morgan, q, releas, sev...  \n",
      "8  [usa, dollar, tank, mnuchin, statement, want, ...  \n"
     ]
    }
   ],
   "source": [
    "sample[\"cleaned_content\"] = sample[\"content\"].apply(clean_text)                     # cleaning the text in the content column\n",
    "sample[\"tokens\"] = sample[\"cleaned_content\"].apply(word_tokenize)                   # tokenizing the text in the content column\n",
    "sample[\"tokens_no_stopwords\"] = sample[\"tokens\"].apply(remove_stopwords)            # removing stopwords from the tokens \n",
    "sample[\"stemmed_tokens\"] = sample[\"tokens_no_stopwords\"].apply(stem_words)          # stemming the tokens \n",
    " \n",
    "# printing a preview of the raw text and step by step of the preprocessing pipeline\n",
    "print(sample[[\"content\", \"cleaned_content\", \"tokens\", \"tokens_no_stopwords\", \"stemmed_tokens\"]].head())"
   ]
  },
  {
   "cell_type": "code",
   "execution_count": 6,
   "metadata": {},
   "outputs": [
    {
     "name": "stdout",
     "output_type": "stream",
     "text": [
      "Vocabulary before removing stopwords: 15585\n",
      "Vocabulary after removing stopwords: 15440\n",
      "Reduction rate after removing stopwords: 0.93%\n",
      "Vocabulary after stemming: 10676\n",
      "Reduction rate after stemming: 30.85%\n"
     ]
    }
   ],
   "source": [
    "size_tokenized = len(set(word for doc in sample[\"tokens\"] for word in doc))\n",
    "size_wo_stopwords = len(set(word for doc in sample[\"tokens_no_stopwords\"] for word in doc))\n",
    "size_stemmed = len(set(word for doc in sample[\"stemmed_tokens\"] for word in doc))\n",
    "\n",
    "stopword_reduction_rate = (size_tokenized - size_wo_stopwords) / size_tokenized * 100\n",
    "stemmed_reduction_rate = (size_wo_stopwords - size_stemmed) / size_wo_stopwords * 100\n",
    "\n",
    "print(f\"Vocabulary before removing stopwords: {size_tokenized}\")\n",
    "print(f\"Vocabulary after removing stopwords: {size_wo_stopwords}\")\n",
    "print(f\"Reduction rate after removing stopwords: {stopword_reduction_rate:.2f}%\")\n",
    "\n",
    "print(f\"Vocabulary after stemming: {size_stemmed}\")\n",
    "print(f\"Reduction rate after stemming: {stemmed_reduction_rate:.2f}%\")"
   ]
  }
 ],
 "metadata": {
  "kernelspec": {
   "display_name": "base",
   "language": "python",
   "name": "python3"
  },
  "language_info": {
   "codemirror_mode": {
    "name": "ipython",
    "version": 3
   },
   "file_extension": ".py",
   "mimetype": "text/x-python",
   "name": "python",
   "nbconvert_exporter": "python",
   "pygments_lexer": "ipython3",
   "version": "3.12.2"
  }
 },
 "nbformat": 4,
 "nbformat_minor": 2
}
